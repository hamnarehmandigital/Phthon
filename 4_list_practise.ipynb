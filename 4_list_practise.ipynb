{
  "nbformat": 4,
  "nbformat_minor": 0,
  "metadata": {
    "colab": {
      "provenance": [],
      "authorship_tag": "ABX9TyMmWEBcRunLrorXySsD/xK2",
      "include_colab_link": true
    },
    "kernelspec": {
      "name": "python3",
      "display_name": "Python 3"
    },
    "language_info": {
      "name": "python"
    }
  },
  "cells": [
    {
      "cell_type": "markdown",
      "metadata": {
        "id": "view-in-github",
        "colab_type": "text"
      },
      "source": [
        "<a href=\"https://colab.research.google.com/github/hamnarehmandigital/Phthon/blob/main/4_list_practise.ipynb\" target=\"_parent\"><img src=\"https://colab.research.google.com/assets/colab-badge.svg\" alt=\"Open In Colab\"/></a>"
      ]
    },
    {
      "cell_type": "code",
      "execution_count": 9,
      "metadata": {
        "colab": {
          "base_uri": "https://localhost:8080/"
        },
        "id": "-HNE8bnj_i2K",
        "outputId": "fd294db1-8a56-42fd-80fa-0032d5940a42"
      },
      "outputs": [
        {
          "output_type": "stream",
          "name": "stdout",
          "text": [
            "['apple', 'banana', 'grapes', 'chery', 'mango']\n",
            "apple\n",
            "mango\n",
            "['apple', 'banana', 'grapes', 'chery', 'mango', 'pineapple']\n"
          ]
        }
      ],
      "source": [
        "#Q1: Create a list of 5 fruits. Print the first and last fruit.\n",
        "\n",
        "fruits = [\"apple\", \"banana\", \"grapes\", \"chery\", \"mango\"]\n",
        "print(fruits)\n",
        "print(fruits[0])\n",
        "print(fruits[-1])\n",
        "\n",
        "fruits.append(\"pineapple\")\n",
        "print(fruits)"
      ]
    },
    {
      "cell_type": "code",
      "source": [
        "#Create a list of numbers [10, 20, 30, 40, 50]. Print the sum of all numbers in the list.\n",
        "\n",
        "numbers = [10, 20, 30, 40, 50]\n",
        "print(numbers)\n",
        "print(sum(numbers))"
      ],
      "metadata": {
        "colab": {
          "base_uri": "https://localhost:8080/"
        },
        "id": "x7lDZwE3Bzp3",
        "outputId": "dc708688-f843-422b-8f3f-51d0244e30f5"
      },
      "execution_count": 17,
      "outputs": [
        {
          "output_type": "stream",
          "name": "stdout",
          "text": [
            "[10, 20, 30, 40, 50]\n",
            "150\n"
          ]
        }
      ]
    },
    {
      "cell_type": "code",
      "source": [
        "#Make a list of 4 colors. Replace the 2nd color with a new one and print the updated\n",
        "\n",
        "colors = [\"red\", \"blue\", \"green\", \"yellow\"]\n",
        "print(colors)\n",
        "colors[1] = \"pink\"\n",
        "print(colors)\n"
      ],
      "metadata": {
        "colab": {
          "base_uri": "https://localhost:8080/"
        },
        "id": "YuBRSWqhDiWJ",
        "outputId": "ba3f02ef-ec0f-476d-b8f3-4a06820a83d5"
      },
      "execution_count": 25,
      "outputs": [
        {
          "output_type": "stream",
          "name": "stdout",
          "text": [
            "['red', 'blue', 'green', 'yellow']\n",
            "['red', 'pink', 'green', 'yellow']\n"
          ]
        }
      ]
    },
    {
      "cell_type": "code",
      "source": [
        "#Create a list [5, 10, 15, 20, 25]. Remove the number 15 and print the updated list.\n",
        "\n",
        "numebers = [5, 10, 15, 20, 25]\n",
        "print(numebers)\n",
        "numebers.remove(15)\n",
        "print(numebers)"
      ],
      "metadata": {
        "colab": {
          "base_uri": "https://localhost:8080/"
        },
        "id": "MLh83Nh3E72c",
        "outputId": "5ed0a62a-1ecd-4fb2-db5a-121ec834e79c"
      },
      "execution_count": 26,
      "outputs": [
        {
          "output_type": "stream",
          "name": "stdout",
          "text": [
            "[5, 10, 15, 20, 25]\n",
            "[5, 10, 20, 25]\n"
          ]
        }
      ]
    }
  ]
}